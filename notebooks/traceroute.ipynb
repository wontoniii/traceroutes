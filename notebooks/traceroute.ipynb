{
 "cells": [
  {
   "cell_type": "markdown",
   "metadata": {},
   "source": [
    "# Not all traceroutes are created equal"
   ]
  },
  {
   "cell_type": "code",
   "execution_count": null,
   "metadata": {},
   "outputs": [],
   "source": [
    "import subprocess, shlex\n",
    "from subprocess import Popen"
   ]
  },
  {
   "cell_type": "markdown",
   "metadata": {},
   "source": [
    "## Traceroute"
   ]
  },
  {
   "cell_type": "code",
   "execution_count": null,
   "metadata": {},
   "outputs": [],
   "source": [
    "cmd_traceroute = \"traceroute ipv4-c177-fra002-ix.1.oca.nflxvideo.net\"\n",
    "\n",
    "args = shlex.split(cmd_traceroute)\n",
    "\n",
    "stdout = subprocess.check_output(args)\n",
    "\n",
    "print(stdout)"
   ]
  },
  {
   "cell_type": "markdown",
   "metadata": {},
   "source": [
    "## Scamper"
   ]
  },
  {
   "cell_type": "code",
   "execution_count": null,
   "metadata": {},
   "outputs": [],
   "source": [
    "# Scamper only works with IPs, set in this variable the ip resolved for the netflix URL above\n",
    "dest_ip = \"45.57.75.221\"\n",
    "\n",
    "cmd_scamper = \"scamper -i {}\".format(dest_ip)\n",
    "\n",
    "args = shlex.split(cmd_scamper)\n",
    "\n",
    "stdout = subprocess.check_output(args)\n",
    "\n",
    "print(stdout)\n"
   ]
  },
  {
   "cell_type": "markdown",
   "metadata": {},
   "source": [
    "## Service-traceroute"
   ]
  },
  {
   "cell_type": "code",
   "execution_count": null,
   "metadata": {},
   "outputs": [],
   "source": [
    "cmd_servicetraceroute = \"/home/service-traceroute/servicetraceroute -iface eth0 -services Netflix\"\n",
    "\n",
    "try: \n",
    "  args = shlex.split(cmd_servicetraceroute)\n",
    "\n",
    "  popen = Popen(args, stdout=subprocess.PIPE) \n",
    "\n",
    "  cmd_wget_nfx = \"wget --limit-rate=100k -qO- https://ipv4-c177-fra002-ix.1.oca.nflxvideo.net/speedtest/range/0-3000000\\?c\\=fr\\&n\\=1945\\&v\\=51\\&e\\=1701283015\\&t\\=X3HNor0F1o_aaWRPrrhi9crgrTgeRtpONCU8QQ > /dev/null\"\n",
    "\n",
    "  args = shlex.split(cmd_wget_nfx)\n",
    "\n",
    "  stdout = subprocess.check_output(args)\n",
    "  print(stdout)\n",
    "\n",
    "  popen.kill()\n",
    "  stdout = popen.communicate()[0]\n",
    "\n",
    "  print(stdout)\n",
    "except Exception as e:\n",
    "  print(e)\n"
   ]
  },
  {
   "cell_type": "markdown",
   "metadata": {},
   "source": [
    "## Report here your conclusions answering these questions"
   ]
  },
  {
   "cell_type": "markdown",
   "metadata": {},
   "source": [
    "### Did you observe any result (in terms of discovered path) between the applications? If so, why do you think they discovered different paths?"
   ]
  },
  {
   "cell_type": "markdown",
   "metadata": {},
   "source": [
    "### For the wget command used with the netflix server, I had to set the rate to a limit of 100kbps. Can you guess why?"
   ]
  },
  {
   "cell_type": "markdown",
   "metadata": {},
   "source": [
    "### (When working) Traceroutes running the service traceroute version, only discover the first hope. Any guess why? "
   ]
  }
 ],
 "metadata": {
  "kernelspec": {
   "display_name": "Python 3 (ipykernel)",
   "language": "python",
   "name": "python3"
  },
  "language_info": {
   "codemirror_mode": {
    "name": "ipython",
    "version": 3
   },
   "file_extension": ".py",
   "mimetype": "text/x-python",
   "name": "python",
   "nbconvert_exporter": "python",
   "pygments_lexer": "ipython3",
   "version": "3.11.2"
  }
 },
 "nbformat": 4,
 "nbformat_minor": 2
}
